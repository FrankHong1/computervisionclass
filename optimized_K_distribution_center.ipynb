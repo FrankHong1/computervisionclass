{
 "cells": [
  {
   "cell_type": "code",
   "execution_count": 12,
   "metadata": {},
   "outputs": [],
   "source": [
    "#the map\n",
    "map=[[0,10,7,6], \n",
    "    [10,0,8,5], \n",
    "    [7,8,0,12], \n",
    "    [6,5,12,0]]"
   ]
  },
  {
   "cell_type": "code",
   "execution_count": 9,
   "metadata": {},
   "outputs": [],
   "source": [
    "#functions that needed to be used for this model\n",
    "import statistics\n",
    "def minimum_excluding_0(array):\n",
    "    new_array=[]\n",
    "    for x in array:\n",
    "        if x!=0:\n",
    "            new_array.append(x)\n",
    "    return min(new_array)\n",
    "def flatten(array):\n",
    "    try:\n",
    "        for subarray in array:\n",
    "            for element in flatten(subarray):\n",
    "                yield element\n",
    "    except TypeError:\n",
    "        yield array\n",
    "def num(array):\n",
    "    for x in array:\n",
    "        x=int((x))\n",
    "    return x\n",
    "def remove_duplicates(array):\n",
    "    arr=[]\n",
    "    for x in array:\n",
    "        if x not in arr:\n",
    "            arr.append(x)\n",
    "    return arr"
   ]
  },
  {
   "cell_type": "code",
   "execution_count": 10,
   "metadata": {},
   "outputs": [],
   "source": [
    "#the K distribution center algorithm\n",
    "def k_distribution_centers(array,k):\n",
    "    mode_filter=[]\n",
    "    centers=[]\n",
    "    first_k=k\n",
    "    max_distance=[]\n",
    "    while k!=0:\n",
    "        mode_filter=[]\n",
    "        if k<first_k:\n",
    "            map.pop(city)\n",
    "        for i in range(len(map)):\n",
    "            distance=map[i]\n",
    "            if k<first_k:\n",
    "                distance.pop(city)\n",
    "            m=distance.index(minimum_excluding_0(distance))\n",
    "            mode_filter.append(m)\n",
    "        mode=statistics.multimode(mode_filter)\n",
    "        city=list(flatten(mode))\n",
    "        if len(city)==1:\n",
    "            centers.append(city)\n",
    "            city=num(city)\n",
    "        else:\n",
    "            for i in range(len(map)):\n",
    "                m_distance=map[i]\n",
    "                m_distance=max(m_distance)\n",
    "                max_distance.append(m_distance)\n",
    "                city=max_distance.index(min(max_distance))\n",
    "                centers.append(city)\n",
    "        k=k-1\n",
    "    centers=list(flatten(centers))\n",
    "    centers=remove_duplicates(centers)\n",
    "    return centers \n",
    "\n"
   ]
  },
  {
   "cell_type": "code",
   "execution_count": 4,
   "metadata": {},
   "outputs": [
    {
     "data": {
      "text/plain": [
       "[3]"
      ]
     },
     "execution_count": 4,
     "metadata": {},
     "output_type": "execute_result"
    }
   ],
   "source": [
    "k_distribution_centers(map,1)"
   ]
  },
  {
   "cell_type": "code",
   "execution_count": 5,
   "metadata": {},
   "outputs": [
    {
     "data": {
      "text/plain": [
       "[3, 2]"
      ]
     },
     "execution_count": 5,
     "metadata": {},
     "output_type": "execute_result"
    }
   ],
   "source": [
    "k_distribution_centers(map,2)"
   ]
  },
  {
   "cell_type": "code",
   "execution_count": 11,
   "metadata": {},
   "outputs": [
    {
     "data": {
      "text/plain": [
       "[3, 2, 0]"
      ]
     },
     "execution_count": 11,
     "metadata": {},
     "output_type": "execute_result"
    }
   ],
   "source": [
    "k_distribution_centers(map,3)"
   ]
  },
  {
   "cell_type": "code",
   "execution_count": null,
   "metadata": {},
   "outputs": [],
   "source": []
  }
 ],
 "metadata": {
  "kernelspec": {
   "display_name": "Python 3",
   "language": "python",
   "name": "python3"
  },
  "language_info": {
   "codemirror_mode": {
    "name": "ipython",
    "version": 3
   },
   "file_extension": ".py",
   "mimetype": "text/x-python",
   "name": "python",
   "nbconvert_exporter": "python",
   "pygments_lexer": "ipython3",
   "version": "3.8.5"
  }
 },
 "nbformat": 4,
 "nbformat_minor": 4
}
