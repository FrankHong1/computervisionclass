{
 "cells": [
  {
   "cell_type": "code",
   "execution_count": 36,
   "metadata": {},
   "outputs": [],
   "source": [
    "map=[[0,10,7,6], \n",
    "    [10,0,8,5], \n",
    "    [7,8,0,12], \n",
    "    [6,5,12,0]]\n",
    "import numpy as np\n",
    "from scipy import stats\n",
    "import scipy\n",
    "\n",
    "def minimum_excluding_0(array):\n",
    "    new_array=[]\n",
    "    for x in array:\n",
    "        if x!=0:\n",
    "            new_array.append(x)\n",
    "    return min(new_array)\n",
    "from collections import Counter\n",
    "    \n"
   ]
  },
  {
   "cell_type": "code",
   "execution_count": 37,
   "metadata": {},
   "outputs": [],
   "source": [
    "def mode(array):\n",
    "    n = len(array)\n",
    "    data = Counter(array)\n",
    "    get_mode = dict(data)\n",
    "    mode = [k for k, v in get_mode.items() if v == max(list(data.values()))]\n",
    "    mode= str(mode)[1:-1] \n",
    "    mode=int(mode)\n",
    "    return mode"
   ]
  },
  {
   "cell_type": "code",
   "execution_count": 24,
   "metadata": {},
   "outputs": [],
   "source": [
    "test_array=[3,3,0,1]"
   ]
  },
  {
   "cell_type": "code",
   "execution_count": 25,
   "metadata": {},
   "outputs": [
    {
     "data": {
      "text/plain": [
       "3"
      ]
     },
     "execution_count": 25,
     "metadata": {},
     "output_type": "execute_result"
    }
   ],
   "source": [
    "mode(test_array)"
   ]
  },
  {
   "cell_type": "code",
   "execution_count": null,
   "metadata": {},
   "outputs": [],
   "source": []
  },
  {
   "cell_type": "code",
   "execution_count": null,
   "metadata": {},
   "outputs": [],
   "source": []
  },
  {
   "cell_type": "code",
   "execution_count": null,
   "metadata": {},
   "outputs": [],
   "source": []
  },
  {
   "cell_type": "code",
   "execution_count": null,
   "metadata": {},
   "outputs": [],
   "source": []
  },
  {
   "cell_type": "code",
   "execution_count": null,
   "metadata": {},
   "outputs": [],
   "source": []
  },
  {
   "cell_type": "code",
   "execution_count": null,
   "metadata": {},
   "outputs": [],
   "source": []
  },
  {
   "cell_type": "code",
   "execution_count": null,
   "metadata": {},
   "outputs": [],
   "source": []
  },
  {
   "cell_type": "code",
   "execution_count": 38,
   "metadata": {},
   "outputs": [],
   "source": [
    "def k_distribution_centers(array,k):\n",
    "    centers=[]\n",
    "    first_k=k\n",
    "    while k!=0:\n",
    "        fiter=[]\n",
    "        if k<first_k:\n",
    "            del map[one_of_the_c]\n",
    "        for i in range(len(map)):\n",
    "            distance=map[i]\n",
    "            if k<first_k:\n",
    "                del distance[one_of_the_c]\n",
    "            m=distance.index(minimum_excluding_0(distance))\n",
    "            fiter.append(m)\n",
    "        one_of_the_c=mode(fiter)\n",
    "        centers.append(one_of_the_c)\n",
    "        k=k-1\n",
    "    return centers\n",
    "    "
   ]
  },
  {
   "cell_type": "code",
   "execution_count": 39,
   "metadata": {},
   "outputs": [
    {
     "data": {
      "text/plain": [
       "[3, 2]"
      ]
     },
     "execution_count": 39,
     "metadata": {},
     "output_type": "execute_result"
    }
   ],
   "source": [
    "k_distribution_centers(map,2)"
   ]
  },
  {
   "cell_type": "code",
   "execution_count": null,
   "metadata": {},
   "outputs": [],
   "source": [
    "\n"
   ]
  },
  {
   "cell_type": "code",
   "execution_count": null,
   "metadata": {},
   "outputs": [],
   "source": []
  },
  {
   "cell_type": "code",
   "execution_count": null,
   "metadata": {},
   "outputs": [],
   "source": []
  }
 ],
 "metadata": {
  "kernelspec": {
   "display_name": "Python 3",
   "language": "python",
   "name": "python3"
  },
  "language_info": {
   "codemirror_mode": {
    "name": "ipython",
    "version": 3
   },
   "file_extension": ".py",
   "mimetype": "text/x-python",
   "name": "python",
   "nbconvert_exporter": "python",
   "pygments_lexer": "ipython3",
   "version": "3.8.5"
  }
 },
 "nbformat": 4,
 "nbformat_minor": 4
}
