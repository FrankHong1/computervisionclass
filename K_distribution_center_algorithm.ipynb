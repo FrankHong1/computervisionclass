{
 "cells": [
  {
   "cell_type": "code",
   "execution_count": 3,
   "metadata": {},
   "outputs": [
    {
     "ename": "SyntaxError",
     "evalue": "unexpected EOF while parsing (<ipython-input-3-1bca58100d71>, line 17)",
     "output_type": "error",
     "traceback": [
      "\u001b[1;36m  File \u001b[1;32m\"<ipython-input-3-1bca58100d71>\"\u001b[1;36m, line \u001b[1;32m17\u001b[0m\n\u001b[1;33m    \u001b[0m\n\u001b[1;37m    ^\u001b[0m\n\u001b[1;31mSyntaxError\u001b[0m\u001b[1;31m:\u001b[0m unexpected EOF while parsing\n"
     ]
    }
   ],
   "source": [
    "map=[[0,10,7,6], \n",
    "    [10,0,8,5], \n",
    "    [7,8,0,12], \n",
    "    [6,5,12,0]]\n",
    "import numpy as np\n",
    "from scipy import stats\n",
    "\n",
    "def minimum_excluding_0(array):\n",
    "    new_array=[]\n",
    "    for x in array:\n",
    "        if x!=0:\n",
    "            new_array.append(x)\n",
    "    return min(new_array)\n",
    "    \n",
    "def mode(array):\n",
    "# HOW?\n",
    " \n"
   ]
  },
  {
   "cell_type": "code",
   "execution_count": null,
   "metadata": {},
   "outputs": [],
   "source": []
  },
  {
   "cell_type": "code",
   "execution_count": 5,
   "metadata": {},
   "outputs": [],
   "source": [
    "def k_distribution_centers(array,k):\n",
    "    fiter=[]\n",
    "    centers=[]\n",
    "    for i in range(len(map)):\n",
    "        distance=map[i]\n",
    "        m=distance.index(minimum_excluding_0(distance))\n",
    "        fiter.append(m)\n",
    "        one_of_the_c=mode(fiter)\n",
    "        centers.append(one_of_the_c)\n",
    "        k-1\n",
    "    while k!=0:\n",
    "        fiter=[]\n",
    "        del map[one_of_the_c]\n",
    "        for i in range(len(map)):\n",
    "            distance=map[i]\n",
    "            del distance[one_of_the_c]\n",
    "            m=distance.index(minimum_excluding_0(distance))\n",
    "            fiter.append(m)\n",
    "            one_of_the_c=mode(fiter)\n",
    "            centers.append(one_of_the_c)\n",
    "            k-1\n",
    "    return centers\n",
    "    \n",
    "    "
   ]
  },
  {
   "cell_type": "code",
   "execution_count": null,
   "metadata": {},
   "outputs": [],
   "source": []
  },
  {
   "cell_type": "code",
   "execution_count": null,
   "metadata": {},
   "outputs": [],
   "source": []
  },
  {
   "cell_type": "code",
   "execution_count": 76,
   "metadata": {},
   "outputs": [],
   "source": []
  }
 ],
 "metadata": {
  "kernelspec": {
   "display_name": "Python 3",
   "language": "python",
   "name": "python3"
  },
  "language_info": {
   "codemirror_mode": {
    "name": "ipython",
    "version": 3
   },
   "file_extension": ".py",
   "mimetype": "text/x-python",
   "name": "python",
   "nbconvert_exporter": "python",
   "pygments_lexer": "ipython3",
   "version": "3.8.5"
  }
 },
 "nbformat": 4,
 "nbformat_minor": 4
}
